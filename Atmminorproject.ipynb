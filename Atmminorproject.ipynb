{
 "cells": [
  {
   "cell_type": "code",
   "execution_count": 1,
   "id": "ba84d5a0-ae4a-4c62-89dc-efb9f00bd138",
   "metadata": {},
   "outputs": [
    {
     "name": "stdout",
     "output_type": "stream",
     "text": [
      "MENU\n",
      "Enter:\n",
      " 1-Withdraw \n",
      " 2-Deposite \n",
      " 3-Exit\n"
     ]
    },
    {
     "name": "stdin",
     "output_type": "stream",
     "text": [
      "Enter your choice: 2\n"
     ]
    },
    {
     "name": "stdout",
     "output_type": "stream",
     "text": [
      "Deposite\n"
     ]
    },
    {
     "name": "stdin",
     "output_type": "stream",
     "text": [
      "Enter amount to Deposite: 5000000000\n"
     ]
    },
    {
     "name": "stdout",
     "output_type": "stream",
     "text": [
      "Amount Deposited 5000000000\n"
     ]
    }
   ],
   "source": [
    "def atm():\n",
    "    print(\"MENU\")\n",
    "    print(\"Enter:\\n 1-Withdraw \\n 2-Deposite \\n 3-Exit\")\n",
    "    choice=int(input(\"Enter your choice:\"))\n",
    "    if choice==1:\n",
    "        print(\"WITHDRAW\")\n",
    "        amount=int(input(\"Enter amount to withdraw:\"))\n",
    "        print(\"Amount withdrawn\",amount)\n",
    "    elif choice==2:\n",
    "        print(\"Deposite\")\n",
    "        dep_amount=int(input(\"Enter amount to Deposite:\"))\n",
    "        print(\"Amount Deposited\",dep_amount)\n",
    "    elif choice==3:\n",
    "        print(\"Exited\")\n",
    "    else:\n",
    "        print(\"Choice is invalid\")\n",
    "atm()"
   ]
  },
  {
   "cell_type": "code",
   "execution_count": null,
   "id": "96b7f8b9-6c5b-4aa6-be55-df37c40e8f09",
   "metadata": {},
   "outputs": [],
   "source": []
  }
 ],
 "metadata": {
  "kernelspec": {
   "display_name": "anaconda-2024.02-py310",
   "language": "python",
   "name": "conda-env-anaconda-2024.02-py310-py"
  },
  "language_info": {
   "codemirror_mode": {
    "name": "ipython",
    "version": 3
   },
   "file_extension": ".py",
   "mimetype": "text/x-python",
   "name": "python",
   "nbconvert_exporter": "python",
   "pygments_lexer": "ipython3",
   "version": "3.10.14"
  }
 },
 "nbformat": 4,
 "nbformat_minor": 5
}
