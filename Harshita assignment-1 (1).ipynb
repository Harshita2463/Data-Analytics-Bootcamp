{
 "cells": [
  {
   "cell_type": "code",
   "execution_count": null,
   "id": "e705dbe9-ab80-4d7c-9be1-5a0f4ac940ac",
   "metadata": {},
   "outputs": [],
   "source": [
    "Python Assignment -1"
   ]
  },
  {
   "cell_type": "code",
   "execution_count": null,
   "id": "a7d7521b-7d16-429a-bbdd-92df02a7c907",
   "metadata": {},
   "outputs": [],
   "source": [
    "1. Variables Assignment and Sum"
   ]
  },
  {
   "cell_type": "code",
   "execution_count": 2,
   "id": "49f241cc-02c8-46ae-82f0-6837c5ee6b13",
   "metadata": {},
   "outputs": [
    {
     "name": "stdout",
     "output_type": "stream",
     "text": [
      "40\n"
     ]
    }
   ],
   "source": [
    "num1 = 15\n",
    "num2 = 25\n",
    "print(num1 + num2)"
   ]
  },
  {
   "cell_type": "code",
   "execution_count": null,
   "id": "e49d45e2-4b36-4587-b596-4cda331ede63",
   "metadata": {},
   "outputs": [],
   "source": [
    "2. Difference & Product"
   ]
  },
  {
   "cell_type": "code",
   "execution_count": 3,
   "id": "5b591de6-57b0-47e3-a61d-3e592c14cf3e",
   "metadata": {},
   "outputs": [
    {
     "name": "stdout",
     "output_type": "stream",
     "text": [
      "32\n",
      "84\n"
     ]
    }
   ],
   "source": [
    "difference = 50 - 18\n",
    "product = 12 * 7\n",
    "print(difference)\n",
    "print(product)"
   ]
  },
  {
   "cell_type": "code",
   "execution_count": null,
   "id": "3db1c9af-2d87-4577-bbdd-3bb830ac9cb9",
   "metadata": {},
   "outputs": [],
   "source": [
    "3. Division & Modulus"
   ]
  },
  {
   "cell_type": "code",
   "execution_count": 4,
   "id": "a8a36327-3409-4d7b-9443-7b73adaf7d01",
   "metadata": {},
   "outputs": [
    {
     "name": "stdout",
     "output_type": "stream",
     "text": [
      "33.333333333333336\n",
      "1\n"
     ]
    }
   ],
   "source": [
    "division = 100 / 3\n",
    "modulus = 100 % 3\n",
    "print(division)\n",
    "print(modulus)"
   ]
  },
  {
   "cell_type": "code",
   "execution_count": null,
   "id": "ef4154e2-6a9c-4e63-b72e-92611faff6f6",
   "metadata": {},
   "outputs": [],
   "source": [
    "4. Boolean Expressions"
   ]
  },
  {
   "cell_type": "code",
   "execution_count": 5,
   "id": "25bb18d9-0f16-4510-a421-6a9378782391",
   "metadata": {},
   "outputs": [
    {
     "name": "stdout",
     "output_type": "stream",
     "text": [
      "True\n",
      "True\n",
      "True\n"
     ]
    }
   ],
   "source": [
    "print((5 + 3) > (10 - 4))\n",
    "print((20 / 2) == 10)\n",
    "print((7 < 5) or (9 != 8))"
   ]
  },
  {
   "cell_type": "code",
   "execution_count": null,
   "id": "f5ceb6be-8f54-44a9-abb8-c1687e8f48c9",
   "metadata": {},
   "outputs": [],
   "source": [
    "5. Type Conversion "
   ]
  },
  {
   "cell_type": "code",
   "execution_count": 6,
   "id": "2afbac2e-71d6-4507-89a0-785e3936a94d",
   "metadata": {},
   "outputs": [
    {
     "name": "stdout",
     "output_type": "stream",
     "text": [
      "45\n",
      "33.0\n"
     ]
    }
   ],
   "source": [
    "int_val = int(45.8)\n",
    "float_val = float(33)\n",
    "print(int_val)\n",
    "print(float_val)"
   ]
  },
  {
   "cell_type": "code",
   "execution_count": null,
   "id": "b50c653c-810d-4996-b2ed-13c3ddb49ab8",
   "metadata": {},
   "outputs": [],
   "source": [
    "6. Average of Three Numbers"
   ]
  },
  {
   "cell_type": "code",
   "execution_count": 7,
   "id": "427f4ffd-8c0c-4c2c-9b1e-b52ef2aee7f3",
   "metadata": {},
   "outputs": [
    {
     "name": "stdout",
     "output_type": "stream",
     "text": [
      "20.0\n"
     ]
    }
   ],
   "source": [
    "a = 10\n",
    "b = 20\n",
    "c = 30\n",
    "average = (a + b + c) / 3\n",
    "print(average)"
   ]
  },
  {
   "cell_type": "code",
   "execution_count": null,
   "id": "be46d3bd-5a4e-4ee4-9e89-3ae55554b917",
   "metadata": {},
   "outputs": [],
   "source": [
    "7. Power Calculation"
   ]
  },
  {
   "cell_type": "code",
   "execution_count": 8,
   "id": "8ef405f8-7f02-4f1e-9250-cc4f19d8e66a",
   "metadata": {},
   "outputs": [
    {
     "name": "stdout",
     "output_type": "stream",
     "text": [
      "125\n"
     ]
    }
   ],
   "source": [
    "result = 5 ** 3\n",
    "print(result)"
   ]
  },
  {
   "cell_type": "code",
   "execution_count": null,
   "id": "919293e6-24f9-4455-b2e6-2f5e85d23728",
   "metadata": {},
   "outputs": [],
   "source": [
    "8. Temperature Conversion"
   ]
  },
  {
   "cell_type": "code",
   "execution_count": 9,
   "id": "ce641373-5f62-4ef9-b9c4-b80d85d8ac0e",
   "metadata": {},
   "outputs": [
    {
     "name": "stdout",
     "output_type": "stream",
     "text": [
      "37.0\n"
     ]
    }
   ],
   "source": [
    "fahrenheit = 98.6\n",
    "celsius = (fahrenheit - 32) * (5 / 9)\n",
    "print(celsius)"
   ]
  },
  {
   "cell_type": "code",
   "execution_count": null,
   "id": "2ff0cc0b-4bb3-40d4-9dc0-778216409b31",
   "metadata": {},
   "outputs": [],
   "source": [
    "9. Simple Interest Calculation"
   ]
  },
  {
   "cell_type": "code",
   "execution_count": 10,
   "id": "8815b7c8-b0a9-4124-82e9-1bc25edc0cea",
   "metadata": {},
   "outputs": [
    {
     "name": "stdout",
     "output_type": "stream",
     "text": [
      "100.0\n"
     ]
    }
   ],
   "source": [
    "P = 1000\n",
    "R = 5\n",
    "T = 2\n",
    "SI = (P * R * T) / 100\n",
    "print(SI)"
   ]
  },
  {
   "cell_type": "code",
   "execution_count": null,
   "id": "976146d5-c299-4903-b279-5e37bec00471",
   "metadata": {},
   "outputs": [],
   "source": [
    "10. Mixed Arithmetic"
   ]
  },
  {
   "cell_type": "code",
   "execution_count": 11,
   "id": "b708781b-f1ae-474d-a031-f730a9803724",
   "metadata": {},
   "outputs": [
    {
     "name": "stdout",
     "output_type": "stream",
     "text": [
      "60.0\n"
     ]
    }
   ],
   "source": [
    "result = (15 + 5) * (20 - 8) / 4\n",
    "print(result)"
   ]
  },
  {
   "cell_type": "code",
   "execution_count": null,
   "id": "5c8286a4-4c46-4b65-90e9-08f34b70fd42",
   "metadata": {},
   "outputs": [],
   "source": []
  }
 ],
 "metadata": {
  "kernelspec": {
   "display_name": "anaconda-2024.02-py310",
   "language": "python",
   "name": "conda-env-anaconda-2024.02-py310-py"
  },
  "language_info": {
   "codemirror_mode": {
    "name": "ipython",
    "version": 3
   },
   "file_extension": ".py",
   "mimetype": "text/x-python",
   "name": "python",
   "nbconvert_exporter": "python",
   "pygments_lexer": "ipython3",
   "version": "3.10.14"
  }
 },
 "nbformat": 4,
 "nbformat_minor": 5
}
