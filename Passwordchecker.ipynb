{
 "cells": [
  {
   "cell_type": "code",
   "execution_count": 1,
   "id": "f52d0e73-864c-4851-9695-4125f0c89c9b",
   "metadata": {},
   "outputs": [
    {
     "name": "stdin",
     "output_type": "stream",
     "text": [
      "Set Password: harshita\n",
      "Enter Password: aakash\n"
     ]
    },
    {
     "name": "stdout",
     "output_type": "stream",
     "text": [
      "You have 2 attempts left\n"
     ]
    },
    {
     "name": "stdin",
     "output_type": "stream",
     "text": [
      "Enter Password: 456\n"
     ]
    },
    {
     "name": "stdout",
     "output_type": "stream",
     "text": [
      "You have 1 attempts left\n"
     ]
    },
    {
     "name": "stdin",
     "output_type": "stream",
     "text": [
      "Enter Password: harshita\n"
     ]
    },
    {
     "name": "stdout",
     "output_type": "stream",
     "text": [
      "Access Granted\n"
     ]
    }
   ],
   "source": [
    "password=input(\"Set Password:\")\n",
    "attempt=3\n",
    "while attempt>0:\n",
    "    user_password=input(\"Enter Password:\")\n",
    "    if password==user_password:\n",
    "        print(\"Access Granted\")\n",
    "        break\n",
    "    else:\n",
    "        attempt-=1\n",
    "        print(f\"You have {attempt} attempts left\")\n",
    "        if attempt==0:\n",
    "            print(\"Too many attempts\")"
   ]
  },
  {
   "cell_type": "code",
   "execution_count": null,
   "id": "9833a166-d980-4113-ad2a-0bd7043f5bcc",
   "metadata": {},
   "outputs": [],
   "source": []
  }
 ],
 "metadata": {
  "kernelspec": {
   "display_name": "anaconda-2024.02-py310",
   "language": "python",
   "name": "conda-env-anaconda-2024.02-py310-py"
  },
  "language_info": {
   "codemirror_mode": {
    "name": "ipython",
    "version": 3
   },
   "file_extension": ".py",
   "mimetype": "text/x-python",
   "name": "python",
   "nbconvert_exporter": "python",
   "pygments_lexer": "ipython3",
   "version": "3.10.14"
  }
 },
 "nbformat": 4,
 "nbformat_minor": 5
}
