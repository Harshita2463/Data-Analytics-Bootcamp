{
 "cells": [
  {
   "cell_type": "code",
   "execution_count": 1,
   "id": "ba066aaf-d49d-45db-b21a-a6684c1149f9",
   "metadata": {},
   "outputs": [
    {
     "name": "stdout",
     "output_type": "stream",
     "text": [
      "<class 'float'>\n"
     ]
    }
   ],
   "source": [
    "x=10\n",
    "y=float(x)\n",
    "print(type(y))"
   ]
  },
  {
   "cell_type": "code",
   "execution_count": 2,
   "id": "1eb51ad3-1ba0-41b6-90f5-29a909491bd6",
   "metadata": {},
   "outputs": [
    {
     "name": "stdout",
     "output_type": "stream",
     "text": [
      "<class 'float'>\n"
     ]
    }
   ],
   "source": [
    "x=10\n",
    "y=10.5\n",
    "print(type(x+y))"
   ]
  },
  {
   "cell_type": "code",
   "execution_count": 6,
   "id": "9abd0858-f4e5-4a9b-9580-ddef87860f01",
   "metadata": {},
   "outputs": [
    {
     "name": "stdin",
     "output_type": "stream",
     "text": [
      "Enter the name of the product: chocolate\n",
      "Enter price: 100.00\n",
      "Enter Quantity: 50\n"
     ]
    },
    {
     "name": "stdout",
     "output_type": "stream",
     "text": [
      "Amount: 5000.0\n"
     ]
    }
   ],
   "source": [
    "product_name=(input(\"Enter the name of the product:\"))\n",
    "product_price=float(input(\"Enter price:\"))\n",
    "product_quantity=int(input(\"Enter Quantity:\"))\n",
    "Amount=product_price*product_quantity\n",
    "print(\"Amount:\",Amount)"
   ]
  },
  {
   "cell_type": "code",
   "execution_count": 7,
   "id": "ea51882b-270d-4e84-933f-8ad576ca43dd",
   "metadata": {},
   "outputs": [
    {
     "name": "stdout",
     "output_type": "stream",
     "text": [
      "hello\n"
     ]
    }
   ],
   "source": [
    "a=10\n",
    "if a<15:\n",
    "    print(\"hello\")"
   ]
  },
  {
   "cell_type": "code",
   "execution_count": 8,
   "id": "31c01f6f-0de0-452a-ab89-0007ad0b64ae",
   "metadata": {},
   "outputs": [
    {
     "name": "stdout",
     "output_type": "stream",
     "text": [
      "hello\n"
     ]
    }
   ],
   "source": [
    "a=10\n",
    "if a<15:\n",
    "    print(\"hello\")\n",
    "else:\n",
    "    print(\"bye\")"
   ]
  },
  {
   "cell_type": "code",
   "execution_count": 9,
   "id": "8c9d09b5-496e-4c6c-b789-bb5ca0897244",
   "metadata": {},
   "outputs": [
    {
     "name": "stdin",
     "output_type": "stream",
     "text": [
      "Enter a number: 2\n"
     ]
    },
    {
     "name": "stdout",
     "output_type": "stream",
     "text": [
      "The number is positive\n"
     ]
    }
   ],
   "source": [
    "n=int(input(\"Enter a number:\"))\n",
    "if n>0:\n",
    "    print(\"The number is positive\")\n",
    "elif n<0:\n",
    "    print(\"The number is negative\")\n",
    "else:\n",
    "    print(\"The number is zero\")"
   ]
  },
  {
   "cell_type": "code",
   "execution_count": 10,
   "id": "6bd9b980-2313-4076-a2b9-9d52d17a270a",
   "metadata": {},
   "outputs": [
    {
     "name": "stdin",
     "output_type": "stream",
     "text": [
      "Enter age 45\n"
     ]
    },
    {
     "name": "stdout",
     "output_type": "stream",
     "text": [
      "Eligible to vote\n"
     ]
    }
   ],
   "source": [
    "age=int(input(\"Enter age\"))\n",
    "if age>=18:\n",
    "    print(\"Eligible to vote\")\n",
    "else:\n",
    "    print(\"Not eligible\")"
   ]
  },
  {
   "cell_type": "code",
   "execution_count": 11,
   "id": "d9a12907-0683-4679-85ae-827aa78d0214",
   "metadata": {},
   "outputs": [
    {
     "name": "stdin",
     "output_type": "stream",
     "text": [
      "Enter a number: 46\n"
     ]
    },
    {
     "name": "stdout",
     "output_type": "stream",
     "text": [
      "the number is even\n"
     ]
    }
   ],
   "source": [
    "num=int(input(\"Enter a number:\"))\n",
    "if num%2==0:\n",
    "    print(\"the number is even\")\n",
    "else:\n",
    "    print(\"the number is odd\")"
   ]
  },
  {
   "cell_type": "code",
   "execution_count": 12,
   "id": "41ed875a-02d3-4827-aa75-aba8a57ec259",
   "metadata": {},
   "outputs": [
    {
     "name": "stdin",
     "output_type": "stream",
     "text": [
      "enter string red\n"
     ]
    },
    {
     "name": "stdout",
     "output_type": "stream",
     "text": [
      "The string length is 5 or less\n"
     ]
    }
   ],
   "source": [
    "text=input(\"enter string\")\n",
    "if len(text) > 5:\n",
    "    print(\"The string length is greater than 5\")\n",
    "else:\n",
    "    print(\"The string length is 5 or less\")"
   ]
  },
  {
   "cell_type": "code",
   "execution_count": 14,
   "id": "1bf0a4da-436a-48c7-97fa-2f480903955f",
   "metadata": {},
   "outputs": [
    {
     "name": "stdin",
     "output_type": "stream",
     "text": [
      "Enter the marks 80\n"
     ]
    },
    {
     "name": "stdout",
     "output_type": "stream",
     "text": [
      "pass\n"
     ]
    }
   ],
   "source": [
    "marks=int(input(\"Enter the marks\"))\n",
    "if marks >= 40:\n",
    "    print(\"pass\")\n",
    "else:\n",
    "    print(\"fail\")\n"
   ]
  },
  {
   "cell_type": "code",
   "execution_count": 15,
   "id": "5e1f6496-edc1-4bcd-8a89-4124474332b1",
   "metadata": {},
   "outputs": [
    {
     "name": "stdin",
     "output_type": "stream",
     "text": [
      "Enter the name of the month July\n"
     ]
    },
    {
     "name": "stdout",
     "output_type": "stream",
     "text": [
      "Summer\n"
     ]
    }
   ],
   "source": [
    "month=str(input(\"Enter the name of the month\"))\n",
    "if month=='Jan':\n",
    "   print(\"Winter\")\n",
    "elif month=='Feb':\n",
    "    print(\"Winter\")\n",
    "elif month=='Mar':\n",
    "    print(\"Spring\")\n",
    "elif month=='Apr':\n",
    "    print(\"Spring\")\n",
    "elif month=='May':\n",
    "    print(\"Summer\")\n",
    "elif month=='June':\n",
    "    print(\"Summer\")\n",
    "elif month=='July':\n",
    "    print(\"Summer\")\n",
    "elif month=='Aug':\n",
    "    print(\"Monsoon\")\n",
    "elif month=='Sep':\n",
    "    print(\"Autumn\")\n",
    "elif month=='Oct':\n",
    "    print(\"Autumn\")\n",
    "elif month=='Nov':\n",
    "    print(\"Winter\")\n",
    "elif month=='Dec':\n",
    "    print(\"Winter\")\n",
    "else:\n",
    "    print(\"Invalid Month Name\")"
   ]
  },
  {
   "cell_type": "code",
   "execution_count": 16,
   "id": "280ad42a-17ee-460d-b9d2-951c682f6144",
   "metadata": {},
   "outputs": [
    {
     "name": "stdout",
     "output_type": "stream",
     "text": [
      "123\n"
     ]
    }
   ],
   "source": [
    "str='123'\n",
    "int=int(str)\n",
    "print(int)"
   ]
  },
  {
   "cell_type": "code",
   "execution_count": 19,
   "id": "d1ec80d2-5b27-4ecb-b15b-fedbd62ebeb4",
   "metadata": {},
   "outputs": [
    {
     "name": "stdin",
     "output_type": "stream",
     "text": [
      "Enter vehicle type: bus\n"
     ]
    },
    {
     "name": "stdout",
     "output_type": "stream",
     "text": [
      "15 years\n"
     ]
    }
   ],
   "source": [
    "vehicle=(input(\"Enter vehicle type:\"))\n",
    "if vehicle==\"car\":\n",
    "    print(\"10 years\")\n",
    "elif vehicle==\"truck\":\n",
    "    print(\"12 years\")\n",
    "elif vehicle==\"bus\":\n",
    "    print(\"15 years\")\n",
    "elif vehicle==\"bike\":\n",
    "    print(\"14 years\")\n",
    "else:\n",
    "    print(\"Invalid vehicle\")"
   ]
  },
  {
   "cell_type": "code",
   "execution_count": 20,
   "id": "b91cf937-ce1e-40bc-adea-63d9a3e51181",
   "metadata": {},
   "outputs": [
    {
     "name": "stdin",
     "output_type": "stream",
     "text": [
      "Enter a number:  5\n"
     ]
    },
    {
     "name": "stdout",
     "output_type": "stream",
     "text": [
      "The number is positive.\n"
     ]
    }
   ],
   "source": [
    "num = float(input(\"Enter a number: \"))\n",
    "if num > 0:\n",
    "    print(\"The number is positive.\")\n",
    "elif num < 0:\n",
    "    print(\"The number is negative.\")\n",
    "else:\n",
    "    print(\"The number is zero.\")"
   ]
  },
  {
   "cell_type": "code",
   "execution_count": 31,
   "id": "f59042a2-2199-4b3b-b74b-a26bb6520d2c",
   "metadata": {},
   "outputs": [
    {
     "name": "stdin",
     "output_type": "stream",
     "text": [
      "Enter first number:  5\n",
      "Enter second number:  6\n",
      "Enter third number:  9\n"
     ]
    },
    {
     "name": "stdout",
     "output_type": "stream",
     "text": [
      "Greatest number is: 9.0\n"
     ]
    }
   ],
   "source": [
    "num1 = float(input(\"Enter first number: \"))\n",
    "num2 = float(input(\"Enter second number: \"))\n",
    "num3 = float(input(\"Enter third number: \"))\n",
    "if num1 > num2:\n",
    "    if num1 > num3:\n",
    "        print(\"Greatest number is:\", num1)\n",
    "    else:\n",
    "        print(\"Greatest number is:\", num3)\n",
    "else:\n",
    "    if num2 > num3:\n",
    "        print(\"Greatest number is:\", num2)\n",
    "    else:\n",
    "        print(\"Greatest number is:\", num3)"
   ]
  },
  {
   "cell_type": "code",
   "execution_count": 33,
   "id": "0abc7616-e3a4-4d7d-8035-8ee43a7cd4f6",
   "metadata": {},
   "outputs": [
    {
     "name": "stdin",
     "output_type": "stream",
     "text": [
      "Enter your marks:  85\n"
     ]
    },
    {
     "name": "stdout",
     "output_type": "stream",
     "text": [
      "Grade: B\n"
     ]
    }
   ],
   "source": [
    "marks = float(input(\"Enter your marks: \"))\n",
    "if marks > 90:\n",
    "    print(\"Grade: A\")\n",
    "elif marks > 75:\n",
    "    print(\"Grade: B\")\n",
    "elif marks > 60:\n",
    "    print(\"Grade: C\")\n",
    "else:\n",
    "    print(\"Grade: Fail\")"
   ]
  },
  {
   "cell_type": "code",
   "execution_count": null,
   "id": "1e5edcd2-93fb-441a-9b62-f648581e5798",
   "metadata": {},
   "outputs": [],
   "source": []
  }
 ],
 "metadata": {
  "kernelspec": {
   "display_name": "anaconda-2024.02-py310",
   "language": "python",
   "name": "conda-env-anaconda-2024.02-py310-py"
  },
  "language_info": {
   "codemirror_mode": {
    "name": "ipython",
    "version": 3
   },
   "file_extension": ".py",
   "mimetype": "text/x-python",
   "name": "python",
   "nbconvert_exporter": "python",
   "pygments_lexer": "ipython3",
   "version": "3.10.14"
  }
 },
 "nbformat": 4,
 "nbformat_minor": 5
}
