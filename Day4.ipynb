{
 "cells": [
  {
   "cell_type": "code",
   "execution_count": 3,
   "id": "13777293-1435-4b11-ac78-7d89d3954bfb",
   "metadata": {},
   "outputs": [
    {
     "name": "stdout",
     "output_type": "stream",
     "text": [
      "15\n"
     ]
    }
   ],
   "source": [
    "def add(a,b):\n",
    "    print(a+b)\n",
    "add(10,5)"
   ]
  },
  {
   "cell_type": "code",
   "execution_count": 4,
   "id": "cda2e7b0-89eb-498b-8927-a46da2bd3e1f",
   "metadata": {},
   "outputs": [
    {
     "name": "stdout",
     "output_type": "stream",
     "text": [
      "15\n"
     ]
    }
   ],
   "source": [
    "def add():\n",
    "    a=5\n",
    "    b=10\n",
    "    print(a+b)\n",
    "add()"
   ]
  },
  {
   "cell_type": "code",
   "execution_count": 8,
   "id": "24ceb644-76ee-4751-bd8f-984c4f550f7c",
   "metadata": {},
   "outputs": [
    {
     "name": "stdout",
     "output_type": "stream",
     "text": [
      "30.0\n"
     ]
    }
   ],
   "source": [
    "def SI(p,r,t):\n",
    "    si=(p*r*t)/100\n",
    "    print(si)\n",
    "SI(100,10,3)"
   ]
  },
  {
   "cell_type": "code",
   "execution_count": null,
   "id": "d48827ac-cc59-4db1-8a0a-ae1cb49a2663",
   "metadata": {},
   "outputs": [],
   "source": [
    "create a function to find rhe sum of all natural number between 1 to 50"
   ]
  },
  {
   "cell_type": "code",
   "execution_count": 13,
   "id": "04aea4be-e127-4d9c-80f6-8506f50551c2",
   "metadata": {},
   "outputs": [
    {
     "name": "stdout",
     "output_type": "stream",
     "text": [
      "Sum of natural numbers from 1 to 50 is: 1275\n"
     ]
    }
   ],
   "source": [
    "def sum_natural_numbers_formula(n=50):\n",
    "    return n * (n + 1) // 2\n",
    "result = sum_natural_numbers_formula()\n",
    "print(\"Sum of natural numbers from 1 to 50 is:\", result)\n"
   ]
  },
  {
   "cell_type": "code",
   "execution_count": 4,
   "id": "af3e0f3d-4b85-4328-83e4-1b74dbecf0fc",
   "metadata": {},
   "outputs": [
    {
     "name": "stdout",
     "output_type": "stream",
     "text": [
      "1275\n"
     ]
    }
   ],
   "source": [
    "def sum_n(a,b):\n",
    "    sum=0\n",
    "    for i in range(a,b):\n",
    "        sum+=i  # sum=sum+i\n",
    "    print(sum)\n",
    "sum_n(1,51)"
   ]
  },
  {
   "cell_type": "code",
   "execution_count": null,
   "id": "4b2c4258-516d-4a41-8de8-e575e30afdf3",
   "metadata": {},
   "outputs": [],
   "source": [
    "print the multiplicable table "
   ]
  },
  {
   "cell_type": "code",
   "execution_count": 2,
   "id": "02ec60be-6372-41a4-a4db-21bc5d512d32",
   "metadata": {},
   "outputs": [
    {
     "name": "stdin",
     "output_type": "stream",
     "text": [
      "Enter a number: 5\n"
     ]
    },
    {
     "name": "stdout",
     "output_type": "stream",
     "text": [
      "5X1=5\n",
      "5X2=10\n",
      "5X3=15\n",
      "5X4=20\n",
      "5X5=25\n",
      "5X6=30\n",
      "5X7=35\n",
      "5X8=40\n",
      "5X9=45\n",
      "5X10=50\n"
     ]
    }
   ],
   "source": [
    "def table():\n",
    "    n=int(input(\"Enter a number:\"))\n",
    "    for i in range(1,11):\n",
    "        print(f\"{n}X{i}={n*i}\")\n",
    "table()"
   ]
  },
  {
   "cell_type": "code",
   "execution_count": null,
   "id": "82c3be17-cfd7-44a2-8766-27cbd9ca95ca",
   "metadata": {},
   "outputs": [],
   "source": [
    "Sum of odd numbers"
   ]
  },
  {
   "cell_type": "code",
   "execution_count": 13,
   "id": "d673d6aa-6b31-4d27-8926-98c0d5725aed",
   "metadata": {},
   "outputs": [
    {
     "name": "stdout",
     "output_type": "stream",
     "text": [
      "625\n"
     ]
    }
   ],
   "source": [
    "def sum_n(a,b):\n",
    "    sum=0\n",
    "    for i in range(a,b):\n",
    "        if i%2!=0:\n",
    "            sum+=i  # sum=sum+i\n",
    "    print(sum)\n",
    "sum_n(1,51)"
   ]
  },
  {
   "cell_type": "code",
   "execution_count": 27,
   "id": "0173c6da-c350-47fc-a4cf-d896582372cd",
   "metadata": {},
   "outputs": [
    {
     "name": "stdin",
     "output_type": "stream",
     "text": [
      "enter a number 5\n"
     ]
    },
    {
     "name": "stdout",
     "output_type": "stream",
     "text": [
      "120\n"
     ]
    }
   ],
   "source": [
    "def factorial(n):\n",
    "    if n==1:\n",
    "        return 1\n",
    "    return n* factorial(n-1)\n",
    "n=int(input(\"enter a number\"))\n",
    "print(factorial(n))"
   ]
  },
  {
   "cell_type": "code",
   "execution_count": 9,
   "id": "9c7a04ea-c1f6-490f-9da1-031d088bb059",
   "metadata": {},
   "outputs": [
    {
     "name": "stdin",
     "output_type": "stream",
     "text": [
      "Enter a string: harshita\n"
     ]
    },
    {
     "name": "stdout",
     "output_type": "stream",
     "text": [
      "atihsrah\n"
     ]
    }
   ],
   "source": [
    "def reverse(word):\n",
    "    print(word[::-1])\n",
    "str=str(input(\"Enter a string:\"))\n",
    "reverse(str)"
   ]
  },
  {
   "cell_type": "code",
   "execution_count": 5,
   "id": "72199c8e-a2a4-4c6b-af62-5525b8266200",
   "metadata": {},
   "outputs": [
    {
     "name": "stdin",
     "output_type": "stream",
     "text": [
      "Enter numerator: 5\n",
      "Enter denomintor: 7\n"
     ]
    },
    {
     "name": "stdout",
     "output_type": "stream",
     "text": [
      "Result is: 0.7142857142857143\n",
      "Program ended,Thank You!\n"
     ]
    }
   ],
   "source": [
    "try:\n",
    "    num1=int(input(\"Enter numerator:\"))\n",
    "    num2=int(input(\"Enter denomintor:\"))\n",
    "    result=num1/num2\n",
    "except ZeroDivisionError:\n",
    "    print(\"Error:Cannot divide by zero!\")\n",
    "except ValueError:\n",
    "    print(\"Error:Please enter valid integers only!\")\n",
    "else:\n",
    "    print(\"Result is:\",result)\n",
    "finally:\n",
    "    print(\"Program ended,Thank You!\")"
   ]
  },
  {
   "cell_type": "code",
   "execution_count": 19,
   "id": "5cbbc0c5-a70d-478d-a816-44dd424996aa",
   "metadata": {},
   "outputs": [
    {
     "name": "stdin",
     "output_type": "stream",
     "text": [
      "Enter a number 2\n"
     ]
    },
    {
     "ename": "TypeError",
     "evalue": "can't multiply sequence by non-int of type 'str'",
     "output_type": "error",
     "traceback": [
      "\u001b[0;31m---------------------------------------------------------------------------\u001b[0m",
      "\u001b[0;31mTypeError\u001b[0m                                 Traceback (most recent call last)",
      "Cell \u001b[0;32mIn[19], line 4\u001b[0m\n\u001b[1;32m      2\u001b[0m     \u001b[38;5;28;01mreturn\u001b[39;00m n\u001b[38;5;241m*\u001b[39mn\n\u001b[1;32m      3\u001b[0m n\u001b[38;5;241m=\u001b[39m(\u001b[38;5;28minput\u001b[39m(\u001b[38;5;124m\"\u001b[39m\u001b[38;5;124mEnter a number\u001b[39m\u001b[38;5;124m\"\u001b[39m))\n\u001b[0;32m----> 4\u001b[0m \u001b[43msquare\u001b[49m\u001b[43m(\u001b[49m\u001b[43mn\u001b[49m\u001b[43m)\u001b[49m\n",
      "Cell \u001b[0;32mIn[19], line 2\u001b[0m, in \u001b[0;36msquare\u001b[0;34m(n)\u001b[0m\n\u001b[1;32m      1\u001b[0m \u001b[38;5;28;01mdef\u001b[39;00m \u001b[38;5;21msquare\u001b[39m(n):\n\u001b[0;32m----> 2\u001b[0m     \u001b[38;5;28;01mreturn\u001b[39;00m \u001b[43mn\u001b[49m\u001b[38;5;241;43m*\u001b[39;49m\u001b[43mn\u001b[49m\n",
      "\u001b[0;31mTypeError\u001b[0m: can't multiply sequence by non-int of type 'str'"
     ]
    }
   ],
   "source": [
    "def square(n):\n",
    "    return n*n\n",
    "n=(input(\"Enter a number\"))\n",
    "square(n)"
   ]
  },
  {
   "cell_type": "code",
   "execution_count": 21,
   "id": "127e3594-5ba7-4fba-8e29-62221337ae39",
   "metadata": {},
   "outputs": [
    {
     "data": {
      "text/plain": [
       "12"
      ]
     },
     "execution_count": 21,
     "metadata": {},
     "output_type": "execute_result"
    }
   ],
   "source": [
    "def add(a,b):\n",
    "    res=a+b\n",
    "    return res\n",
    "    num1=(input(\"Enter the number\"))\n",
    "    num2(input(\"Enter the number\"))\n",
    "add(num1,num2)"
   ]
  },
  {
   "cell_type": "code",
   "execution_count": 29,
   "id": "a7249aa5-e3a1-417a-b4b4-27595e9cbbc7",
   "metadata": {},
   "outputs": [],
   "source": [
    "def even(n):\n",
    "    if n%2==0:\n",
    "        print("
   ]
  },
  {
   "cell_type": "code",
   "execution_count": 34,
   "id": "63a5b79e-5067-4a4d-9b93-3a74a5fef7b2",
   "metadata": {},
   "outputs": [
    {
     "ename": "NameError",
     "evalue": "name 'numbers' is not defined",
     "output_type": "error",
     "traceback": [
      "\u001b[0;31m---------------------------------------------------------------------------\u001b[0m",
      "\u001b[0;31mNameError\u001b[0m                                 Traceback (most recent call last)",
      "Cell \u001b[0;32mIn[34], line 10\u001b[0m\n\u001b[1;32m      8\u001b[0m     \u001b[38;5;28;01mreturn\u001b[39;00m largest\n\u001b[1;32m      9\u001b[0m     numbers \u001b[38;5;241m=\u001b[39m [\u001b[38;5;241m3\u001b[39m, \u001b[38;5;241m7\u001b[39m, \u001b[38;5;241m2\u001b[39m, \u001b[38;5;241m9\u001b[39m, \u001b[38;5;241m4\u001b[39m]\n\u001b[0;32m---> 10\u001b[0m \u001b[38;5;28mprint\u001b[39m(find_largest_element,\u001b[43mnumbers\u001b[49m)\n",
      "\u001b[0;31mNameError\u001b[0m: name 'numbers' is not defined"
     ]
    }
   ],
   "source": [
    "def find_largest_element(lst):\n",
    "    if not lst:\n",
    "        return None\n",
    "    largest = lst[0]\n",
    "    for item in lst[1:]:\n",
    "        if item > largest:\n",
    "            largest = item\n",
    "    return largest\n",
    "    numbers = [3, 7, 2, 9, 4]\n",
    "print(find_largest_element(numbers))"
   ]
  },
  {
   "cell_type": "code",
   "execution_count": null,
   "id": "a84f6a97-0d2b-4057-883a-3fe902425b49",
   "metadata": {},
   "outputs": [],
   "source": [
    "def largest(lst):\n",
    "    largest=lst[0]\n",
    "    for i in lst[1:]:\n",
    "        if i>largest:\n",
    "            largest=i\n",
    "    print(largest)\n",
    "lst=[2,5,1,11,8]\n",
    "largest(lst)"
   ]
  },
  {
   "cell_type": "code",
   "execution_count": 38,
   "id": "09da8cf6-6c86-4be2-ae1b-734ce49657be",
   "metadata": {},
   "outputs": [
    {
     "name": "stdout",
     "output_type": "stream",
     "text": [
      "[0, 1, 1, 2, 3, 5, 8, 13, 21, 34]\n"
     ]
    }
   ],
   "source": [
    "def fibonacci_series(n):\n",
    "    if n <= 0:\n",
    "        return []\n",
    "    elif n == 1:\n",
    "        return [0]\n",
    "    series = [0, 1]\n",
    "    while len(series) < n:\n",
    "        next_term = series[-1] + series[-2]\n",
    "        series.append(next_term)\n",
    "    return series\n",
    "print(fibonacci_series(10))"
   ]
  },
  {
   "cell_type": "code",
   "execution_count": 37,
   "id": "43df61c3-6dd4-441d-a1ef-8b9e98d1f2c9",
   "metadata": {},
   "outputs": [
    {
     "name": "stdout",
     "output_type": "stream",
     "text": [
      "3\n"
     ]
    }
   ],
   "source": [
    "def count_vowels(s):\n",
    "    vowels = \"aeiouAEIOU\"\n",
    "    count = 0\n",
    "    for char in s:\n",
    "        if char in vowels:\n",
    "            count += 1\n",
    "    return count\n",
    "print(count_vowels(\"Hello World\"))"
   ]
  },
  {
   "cell_type": "code",
   "execution_count": 36,
   "id": "aac4d72f-c576-4e35-ae67-b4c59d7119fc",
   "metadata": {},
   "outputs": [
    {
     "name": "stdout",
     "output_type": "stream",
     "text": [
      "15\n"
     ]
    }
   ],
   "source": [
    "def sum_values(*args):\n",
    "    return sum(args)\n",
    "print(sum_values(1, 2, 3, 4, 5))"
   ]
  },
  {
   "cell_type": "code",
   "execution_count": 39,
   "id": "76dedf63-f68c-4372-b7ad-4153c46bebe1",
   "metadata": {},
   "outputs": [
    {
     "name": "stdout",
     "output_type": "stream",
     "text": [
      "True\n",
      "False\n",
      "True\n"
     ]
    }
   ],
   "source": [
    "def is_palindrome(s):\n",
    "    cleaned = ''.join(c.lower() for c in s if c.isalnum())\n",
    "    return cleaned == cleaned[::-1]\n",
    "print(is_palindrome(\"Racecar\"))\n",
    "print(is_palindrome(\"Hello\"))\n",
    "print(is_palindrome(\"A man a plan a canal Panama\"))"
   ]
  },
  {
   "cell_type": "code",
   "execution_count": 40,
   "id": "76dc692a-7277-475c-95dc-16a7bba3c636",
   "metadata": {},
   "outputs": [
    {
     "name": "stdout",
     "output_type": "stream",
     "text": [
      "True\n",
      "False\n",
      "True\n"
     ]
    }
   ],
   "source": [
    "def is_palindrome(word):\n",
    "    word = word.lower()\n",
    "    word = word.replace(\" \", \"\")\n",
    "    if word == word[::-1]:\n",
    "        return True\n",
    "    else:\n",
    "        return False\n",
    "print(is_palindrome(\"Radar\"))\n",
    "print(is_palindrome(\"hello\"))\n",
    "print(is_palindrome(\"Level\"))\n"
   ]
  },
  {
   "cell_type": "code",
   "execution_count": 5,
   "id": "4f0e4d3a-47d0-4ee6-8f07-441c1b33c427",
   "metadata": {},
   "outputs": [
    {
     "name": "stdout",
     "output_type": "stream",
     "text": [
      "5\n"
     ]
    }
   ],
   "source": [
    "def add(x, y=2):\n",
    "    return x + y\n",
    "print(add(3))"
   ]
  },
  {
   "cell_type": "code",
   "execution_count": 6,
   "id": "20780ef4-fab1-4ed4-a0c0-6ad6c72c7c88",
   "metadata": {},
   "outputs": [
    {
     "name": "stdin",
     "output_type": "stream",
     "text": [
      "Enter a number 2\n"
     ]
    },
    {
     "name": "stdout",
     "output_type": "stream",
     "text": [
      "2 is even\n"
     ]
    }
   ],
   "source": [
    "def even(n):\n",
    "    if n%2==0:\n",
    "        print(n,\"is even\")\n",
    "    else:\n",
    "        print(n,\"is odd\")\n",
    "n=int(input(\"Enter a number\"))\n",
    "even(n)"
   ]
  },
  {
   "cell_type": "code",
   "execution_count": 7,
   "id": "199c2b67-2383-4c1e-9458-85d8375462f9",
   "metadata": {},
   "outputs": [
    {
     "name": "stdout",
     "output_type": "stream",
     "text": [
      "6.0\n"
     ]
    }
   ],
   "source": [
    "def average(a, b):\n",
    "    return (a + b) / 2\n",
    "print(average(4, 8))"
   ]
  },
  {
   "cell_type": "code",
   "execution_count": 8,
   "id": "a484c757-9a04-442f-bda2-2c2a942b5521",
   "metadata": {},
   "outputs": [
    {
     "name": "stdin",
     "output_type": "stream",
     "text": [
      "Enter a string:  harshita\n"
     ]
    },
    {
     "name": "stdout",
     "output_type": "stream",
     "text": [
      "Vowel count: 3\n"
     ]
    }
   ],
   "source": [
    "str=input(\"Enter a string: \")\n",
    "vowels = \"aeiouAEIOU\"\n",
    "count = sum(1 for ch in str if ch in vowels)\n",
    "print(\"Vowel count:\",count)"
   ]
  },
  {
   "cell_type": "code",
   "execution_count": 9,
   "id": "c2b254b8-4e0e-4ac1-b1d5-3fcba7ec41d7",
   "metadata": {},
   "outputs": [
    {
     "name": "stdin",
     "output_type": "stream",
     "text": [
      "Enter a number:  3\n"
     ]
    },
    {
     "name": "stdout",
     "output_type": "stream",
     "text": [
      "Square: 9\n"
     ]
    }
   ],
   "source": [
    "square = lambda x:x**2\n",
    "num = int(input(\"Enter a number: \"))\n",
    "print(\"Square:\",square(num))"
   ]
  },
  {
   "cell_type": "code",
   "execution_count": 11,
   "id": "99f52257-d387-44a9-bc4a-7e49b9938c53",
   "metadata": {},
   "outputs": [
    {
     "name": "stdout",
     "output_type": "stream",
     "text": [
      "120\n"
     ]
    }
   ],
   "source": [
    "def factorial(n):\n",
    "    if n == 0 or n == 1:\n",
    "        return 1\n",
    "    else:\n",
    "        return n*factorial(n - 1)\n",
    "print(factorial(5))  # Output: 120"
   ]
  },
  {
   "cell_type": "code",
   "execution_count": 13,
   "id": "6483c913-f1ac-49aa-8be3-61962a479830",
   "metadata": {},
   "outputs": [
    {
     "name": "stdin",
     "output_type": "stream",
     "text": [
      "Enter first number:  4\n",
      "Enter second number:  6\n"
     ]
    },
    {
     "name": "stdout",
     "output_type": "stream",
     "text": [
      "Average: 5.0\n"
     ]
    }
   ],
   "source": [
    "def average():\n",
    "    try:\n",
    "        num1 =int(input(\"Enter first number: \"))\n",
    "        num2 =int(input(\"Enter second number: \"))\n",
    "        avg = (num1 + num2) / 2\n",
    "        return avg\n",
    "    except ValueError:\n",
    "        return \"Invalid input. Please enter numeric values.\"\n",
    "result = average()\n",
    "print(\"Average:\", result)\n"
   ]
  }
 ],
 "metadata": {
  "kernelspec": {
   "display_name": "anaconda-2024.02-py310",
   "language": "python",
   "name": "conda-env-anaconda-2024.02-py310-py"
  },
  "language_info": {
   "codemirror_mode": {
    "name": "ipython",
    "version": 3
   },
   "file_extension": ".py",
   "mimetype": "text/x-python",
   "name": "python",
   "nbconvert_exporter": "python",
   "pygments_lexer": "ipython3",
   "version": "3.10.14"
  }
 },
 "nbformat": 4,
 "nbformat_minor": 5
}
