{
 "cells": [
  {
   "cell_type": "code",
   "execution_count": 3,
   "id": "d5248dd3-bd3c-4f10-8717-235ca7c732a1",
   "metadata": {},
   "outputs": [
    {
     "name": "stdin",
     "output_type": "stream",
     "text": [
      "Enter a number: 2\n"
     ]
    },
    {
     "name": "stdout",
     "output_type": "stream",
     "text": [
      "2*1=2\n",
      "2*2=4\n",
      "2*3=6\n",
      "2*4=8\n",
      "2*5=10\n",
      "2*6=12\n",
      "2*7=14\n",
      "2*8=16\n",
      "2*9=18\n",
      "2*10=20\n"
     ]
    }
   ],
   "source": [
    "num=int(input(\"Enter a number:\"))\n",
    "i=1\n",
    "while i<=10:\n",
    "    print(f\"{num}*{i}={num*i}\")\n",
    "    i+=1"
   ]
  },
  {
   "cell_type": "markdown",
   "id": "9298cf30-1b68-490f-996f-260b23015e3a",
   "metadata": {},
   "source": [
    "##### while True:\n",
    "    user_input=input(\"Type 'q' to quit:\")\n",
    "    if user_input=='q':\n",
    "        print(\"Exited Loop!\")\n",
    "        break\n",
    "    else:\n",
    "         print(\"You typed:\",user_input)"
   ]
  },
  {
   "cell_type": "code",
   "execution_count": 10,
   "id": "96948f71-c27c-4754-9c0a-f0ee42f87386",
   "metadata": {},
   "outputs": [
    {
     "name": "stdin",
     "output_type": "stream",
     "text": [
      "Enter password: 345\n"
     ]
    },
    {
     "name": "stdout",
     "output_type": "stream",
     "text": [
      "wrong password!2attempts left\n"
     ]
    },
    {
     "name": "stdin",
     "output_type": "stream",
     "text": [
      "Enter password: 123\n"
     ]
    },
    {
     "name": "stdout",
     "output_type": "stream",
     "text": [
      "wrong password!1attempts left\n"
     ]
    },
    {
     "name": "stdin",
     "output_type": "stream",
     "text": [
      "Enter password: open123\n"
     ]
    },
    {
     "name": "stdout",
     "output_type": "stream",
     "text": [
      "Acess granted\n"
     ]
    }
   ],
   "source": [
    "password=\"open123\"\n",
    "attempts=3\n",
    "while attempts>0:\n",
    "    user_input=input(\"Enter password:\")\n",
    "    if user_input==password:\n",
    "        print(\"Acess granted\")\n",
    "        break\n",
    "    else:\n",
    "        attempts-=1\n",
    "        print(f\"wrong password!{attempts}attempts left\")"
   ]
  },
  {
   "cell_type": "code",
   "execution_count": 11,
   "id": "701d947c-4978-4cc4-a9b6-0b0d824f88d0",
   "metadata": {},
   "outputs": [
    {
     "name": "stdout",
     "output_type": "stream",
     "text": [
      "7\n",
      "14\n",
      "21\n",
      "28\n",
      "35\n",
      "42\n",
      "49\n",
      "56\n",
      "63\n",
      "70\n",
      "77\n",
      "84\n",
      "91\n",
      "98\n"
     ]
    }
   ],
   "source": [
    "i = 1\n",
    "while i <= 100:\n",
    "    if i % 7 == 0:\n",
    "        print(i)\n",
    "    i += 1"
   ]
  },
  {
   "cell_type": "code",
   "execution_count": 13,
   "id": "352f185a-56f9-4950-b383-27f73cb4e1b1",
   "metadata": {},
   "outputs": [
    {
     "name": "stdin",
     "output_type": "stream",
     "text": [
      "Enter a number: 3\n"
     ]
    },
    {
     "name": "stdout",
     "output_type": "stream",
     "text": [
      "3X1=3\n",
      "3X2=6\n",
      "3X3=9\n",
      "3X4=12\n",
      "3X5=15\n",
      "3X6=18\n",
      "3X7=21\n",
      "3X8=24\n",
      "3X9=27\n",
      "3X10=30\n"
     ]
    }
   ],
   "source": [
    "num=int(input(\"Enter a number:\"))\n",
    "for i in range(1,11):\n",
    "    print(f\"{num}X{i}={num*i}\")"
   ]
  },
  {
   "cell_type": "code",
   "execution_count": 23,
   "id": "31911a27-cbfa-44e4-8c30-1b6aff5e768a",
   "metadata": {},
   "outputs": [
    {
     "name": "stdin",
     "output_type": "stream",
     "text": [
      "Enter a password: 785\n"
     ]
    },
    {
     "name": "stdout",
     "output_type": "stream",
     "text": [
      "wrong password! 2 attempts left\n"
     ]
    },
    {
     "name": "stdin",
     "output_type": "stream",
     "text": [
      "Enter a password: 742\n"
     ]
    },
    {
     "name": "stdout",
     "output_type": "stream",
     "text": [
      "wrong password! 1 attempts left\n"
     ]
    },
    {
     "name": "stdin",
     "output_type": "stream",
     "text": [
      "Enter a password: open123\n"
     ]
    },
    {
     "name": "stdout",
     "output_type": "stream",
     "text": [
      "Access granted\n"
     ]
    }
   ],
   "source": [
    "password=\"open123\"\n",
    "attempts=3\n",
    "for i in range (1,4):\n",
    "    user_input=str(input(\"Enter a password:\"))\n",
    "    if user_input==password:\n",
    "         print(\"Access granted\")\n",
    "         break\n",
    "    else:\n",
    "        attempts-=1\n",
    "        print(f\"wrong password! {attempts} attempts left\")"
   ]
  },
  {
   "cell_type": "code",
   "execution_count": 24,
   "id": "31de063c-8cf7-4676-85f9-73c5e6704144",
   "metadata": {},
   "outputs": [
    {
     "name": "stdout",
     "output_type": "stream",
     "text": [
      "1\n",
      "2\n",
      "3\n",
      "4\n",
      "6\n",
      "7\n"
     ]
    }
   ],
   "source": [
    "for i in range(1,11):\n",
    "    if i==5:\n",
    "        continue\n",
    "    elif i==8:\n",
    "        break \n",
    "    else:\n",
    "       print(i)\n"
   ]
  },
  {
   "cell_type": "code",
   "execution_count": 26,
   "id": "0b341202-0b39-457f-bf6c-4b108832be82",
   "metadata": {},
   "outputs": [
    {
     "name": "stdin",
     "output_type": "stream",
     "text": [
      "Enter a password: 788\n"
     ]
    },
    {
     "name": "stdout",
     "output_type": "stream",
     "text": [
      "wrong password! 2 attempts left\n"
     ]
    },
    {
     "name": "stdin",
     "output_type": "stream",
     "text": [
      "Enter a password: 859\n"
     ]
    },
    {
     "name": "stdout",
     "output_type": "stream",
     "text": [
      "wrong password! 1 attempts left\n"
     ]
    },
    {
     "name": "stdin",
     "output_type": "stream",
     "text": [
      "Enter a password: forgot\n",
      "Enter a password: open123\n"
     ]
    },
    {
     "name": "stdout",
     "output_type": "stream",
     "text": [
      "Access granted\n"
     ]
    }
   ],
   "source": [
    "password=\"open123\"\n",
    "attempts=3\n",
    "for i in range (1,6):\n",
    "    user_input=str(input(\"Enter a password:\"))\n",
    "    if user_input==password:\n",
    "         print(\"Access granted\")\n",
    "         break\n",
    "    elif user_input=='forgot':\n",
    "        continue\n",
    "    else:\n",
    "        attempts-=1\n",
    "        print(f\"wrong password! {attempts} attempts left\")"
   ]
  },
  {
   "cell_type": "code",
   "execution_count": 48,
   "id": "28781a1e-7599-47e3-9351-e70fcf332654",
   "metadata": {},
   "outputs": [
    {
     "name": "stdin",
     "output_type": "stream",
     "text": [
      "Enter a char o\n",
      "Enter a char n\n"
     ]
    },
    {
     "name": "stdout",
     "output_type": "stream",
     "text": [
      "loop exited\n"
     ]
    }
   ],
   "source": [
    "for i in range(1,11):\n",
    "    num=str(input(\"Enter a char\"))\n",
    "    if num=='o':\n",
    "        continue\n",
    "    elif num=='n':\n",
    "        print(\"loop exited\")\n",
    "        break\n",
    "    else:\n",
    "        print(num)"
   ]
  },
  {
   "cell_type": "code",
   "execution_count": 40,
   "id": "f5902856-a23c-4372-8294-ec188d3c8b10",
   "metadata": {},
   "outputs": [
    {
     "name": "stdout",
     "output_type": "stream",
     "text": [
      "Hello from function\n"
     ]
    }
   ],
   "source": [
    "def harshita():\n",
    "    print(\"Hello from function\")\n",
    "harshita()"
   ]
  },
  {
   "cell_type": "code",
   "execution_count": 43,
   "id": "4b130850-d194-4564-b3e4-3b116e373c2e",
   "metadata": {},
   "outputs": [
    {
     "name": "stdout",
     "output_type": "stream",
     "text": [
      "sum of 1 and 3 is= 4\n"
     ]
    }
   ],
   "source": [
    "def add(num1,num2):\n",
    "    sum=num1+num2\n",
    "    print(\"sum of\",num1,\"and\",num2,\"is=\",sum)\n",
    "add(1,3)"
   ]
  },
  {
   "cell_type": "code",
   "execution_count": 44,
   "id": "beddc159-1057-4ef9-8dc5-a94672626fd3",
   "metadata": {},
   "outputs": [
    {
     "name": "stdout",
     "output_type": "stream",
     "text": [
      "mar\n"
     ]
    }
   ],
   "source": [
    "def rev(word):\n",
    "  print(word[::-1])\n",
    "rev(\"ram\")"
   ]
  },
  {
   "cell_type": "code",
   "execution_count": 51,
   "id": "1d2417a5-ec0b-48b6-9d86-bc836becc85f",
   "metadata": {},
   "outputs": [
    {
     "name": "stdout",
     "output_type": "stream",
     "text": [
      "✅ Letter: P\n",
      "✅ Letter: Y\n",
      "✅ Letter: T\n",
      "✅ Letter: H\n",
      "🛑 Breaking at 'n'\n"
     ]
    }
   ],
   "source": [
    "word = \"PYTHONPROGRAMMING\"\n",
    "\n",
    "for letter in word:\n",
    "    if letter.lower() == 'o':\n",
    "        continue   # Skip 'o'\n",
    "    if letter.lower() == 'n':\n",
    "        print(\"🛑 Breaking at 'n'\")\n",
    "        break      # Stop at 'n'\n",
    "    print(\"✅ Letter:\", letter)"
   ]
  },
  {
   "cell_type": "code",
   "execution_count": 52,
   "id": "8a63cd5d-9aa2-4065-91d5-322c0f436000",
   "metadata": {},
   "outputs": [
    {
     "name": "stdout",
     "output_type": "stream",
     "text": [
      "1\n"
     ]
    }
   ],
   "source": [
    "print(10%3)"
   ]
  },
  {
   "cell_type": "code",
   "execution_count": 53,
   "id": "ad0e5256-5f88-4af8-82cd-f5c2457187b4",
   "metadata": {},
   "outputs": [
    {
     "name": "stdout",
     "output_type": "stream",
     "text": [
      "True\n"
     ]
    }
   ],
   "source": [
    "print(4 != 5)"
   ]
  },
  {
   "cell_type": "code",
   "execution_count": 54,
   "id": "f75e7752-4c4c-4e47-8303-675a35e55e4b",
   "metadata": {},
   "outputs": [
    {
     "name": "stdout",
     "output_type": "stream",
     "text": [
      "2.0\n"
     ]
    }
   ],
   "source": [
    "print(10 / 5)"
   ]
  },
  {
   "cell_type": "code",
   "execution_count": 55,
   "id": "1fa860c3-3cfa-4490-a988-ed8885fa4756",
   "metadata": {},
   "outputs": [
    {
     "name": "stdout",
     "output_type": "stream",
     "text": [
      "Yes\n"
     ]
    }
   ],
   "source": [
    " x = 5;\n",
    "if x > 3: \n",
    "    print('Yes')"
   ]
  },
  {
   "cell_type": "code",
   "execution_count": 57,
   "id": "cb02862d-92d9-4165-a607-3bcea87ff4ac",
   "metadata": {},
   "outputs": [
    {
     "name": "stdout",
     "output_type": "stream",
     "text": [
      "OK\n"
     ]
    }
   ],
   "source": [
    " 5 < 10 \n",
    "print('OK')\n"
   ]
  },
  {
   "cell_type": "code",
   "execution_count": 58,
   "id": "f2e5afc3-3609-49bc-a33e-0d862ab4bb05",
   "metadata": {},
   "outputs": [],
   "source": [
    "while False: print('Hi')\n"
   ]
  },
  {
   "cell_type": "code",
   "execution_count": 59,
   "id": "a604df55-c4e7-4906-8f22-443db7a1f48f",
   "metadata": {},
   "outputs": [
    {
     "name": "stdout",
     "output_type": "stream",
     "text": [
      "Hello World!\n"
     ]
    }
   ],
   "source": [
    "print('Hello World!')"
   ]
  },
  {
   "cell_type": "code",
   "execution_count": 60,
   "id": "6b484a1e-a9fb-4887-9d8b-426b0bec6227",
   "metadata": {},
   "outputs": [
    {
     "name": "stdin",
     "output_type": "stream",
     "text": [
      "Enter first number:  2\n",
      "Enter second number:  7\n"
     ]
    },
    {
     "name": "stdout",
     "output_type": "stream",
     "text": [
      "Sum: 9\n"
     ]
    }
   ],
   "source": [
    "a = int(input(\"Enter first number: \"))\n",
    "b = int(input(\"Enter second number: \"))\n",
    "print(\"Sum:\", a + b)"
   ]
  },
  {
   "cell_type": "code",
   "execution_count": 62,
   "id": "39c4a366-1c51-4264-8e6d-48d67c2a30b2",
   "metadata": {},
   "outputs": [
    {
     "name": "stdin",
     "output_type": "stream",
     "text": [
      "Enter a Number 2\n"
     ]
    },
    {
     "name": "stdout",
     "output_type": "stream",
     "text": [
      "The number is even\n"
     ]
    }
   ],
   "source": [
    "num=int(input(\"Enter a Number\"))\n",
    "if num%2==0:\n",
    "    print(\"The number is even\")\n",
    "else:\n",
    "    print(\"The number is odd\")"
   ]
  },
  {
   "cell_type": "code",
   "execution_count": 63,
   "id": "a3281bbb-a5cc-412a-b2f4-d6465e00825d",
   "metadata": {},
   "outputs": [
    {
     "name": "stdin",
     "output_type": "stream",
     "text": [
      "Enter First Number 4\n",
      "Enter Second Number 7\n"
     ]
    },
    {
     "name": "stdout",
     "output_type": "stream",
     "text": [
      "7 is greater\n"
     ]
    }
   ],
   "source": [
    "num1=int(input(\"Enter First Number\"))\n",
    "num2=int(input(\"Enter Second Number\"))\n",
    "if num1>num2:\n",
    "    print(num1,\"is greater\")\n",
    "else:\n",
    "    print(num2,\"is greater\")"
   ]
  },
  {
   "cell_type": "code",
   "execution_count": 64,
   "id": "d1d5e307-a4f9-4880-b1b3-08368c9a6f5f",
   "metadata": {},
   "outputs": [
    {
     "name": "stdin",
     "output_type": "stream",
     "text": [
      "Enter a Number 6\n"
     ]
    },
    {
     "name": "stdout",
     "output_type": "stream",
     "text": [
      "6 is positive\n"
     ]
    }
   ],
   "source": [
    "num=int(input(\"Enter a Number\"))\n",
    "if num<0:\n",
    "    print(num,\"is negative\")\n",
    "elif num>0:\n",
    "    print(num,\"is positive\")\n",
    "else:\n",
    "    print(num,\"is equal to zero\")"
   ]
  },
  {
   "cell_type": "code",
   "execution_count": null,
   "id": "fc0f85ad-92d7-429b-bc6c-43947734d430",
   "metadata": {},
   "outputs": [],
   "source": [
    "i=1\n",
    "while i<11:\n",
    "    print(i)\n",
    "    i+=1"
   ]
  },
  {
   "cell_type": "code",
   "execution_count": null,
   "id": "84a5518d-502a-4e8d-9633-9baa91c4b74b",
   "metadata": {},
   "outputs": [],
   "source": [
    "num=int(input(\"Enter a number: \"))\n",
    "fact=1\n",
    "for i in range(1, n+1):\n",
    "    fact *= i\n",
    "    print(\"Factorial:\", fact)"
   ]
  },
  {
   "cell_type": "code",
   "execution_count": null,
   "id": "d7a15ed2-c1e1-49c8-92e1-caadb854d0a4",
   "metadata": {},
   "outputs": [],
   "source": [
    "n = int(input(\"Enter a number: \"))\n",
    "rev = 0\n",
    "while n > 0:\n",
    "    rev = rev * 10 + n % 10\n",
    "    n //= 10\n",
    "print(\"Reversed:\", rev)"
   ]
  },
  {
   "cell_type": "code",
   "execution_count": null,
   "id": "b574c549-7c25-4630-9761-75ad9fc3d175",
   "metadata": {},
   "outputs": [],
   "source": [
    "s=input(\"Enter a string:\")\n",
    "vowels=\"aeiouAEIOU\"\n",
    "count=sum(1 for ch in s if ch in vowels)\n",
    "print(\"Vowel count:\",count)"
   ]
  },
  {
   "cell_type": "code",
   "execution_count": null,
   "id": "eeff03c9-5681-4e0e-a3bb-baf36cd14314",
   "metadata": {},
   "outputs": [],
   "source": [
    "lst=[int(x)\n",
    "     for x in input(\"Enter numbers: \").split()]\n",
    "evens = [x for x in lst if x % 2 == 0]\n",
    "print(\"Even numbers:\", evens)"
   ]
  },
  {
   "cell_type": "code",
   "execution_count": null,
   "id": "b72f3c8b-2dda-4f15-baa6-af79cf85fc85",
   "metadata": {},
   "outputs": [],
   "source": [
    "for i in range(10):\n",
    "    if i == 2:\n",
    "        continue\n",
    "    if i == 7:\n",
    "        break\n",
    "    print(i)\n"
   ]
  },
  {
   "cell_type": "code",
   "execution_count": null,
   "id": "246977fb-0ac5-44d2-8ec8-8940bf634136",
   "metadata": {},
   "outputs": [],
   "source": []
  }
 ],
 "metadata": {
  "kernelspec": {
   "display_name": "anaconda-2024.02-py310",
   "language": "python",
   "name": "conda-env-anaconda-2024.02-py310-py"
  },
  "language_info": {
   "codemirror_mode": {
    "name": "ipython",
    "version": 3
   },
   "file_extension": ".py",
   "mimetype": "text/x-python",
   "name": "python",
   "nbconvert_exporter": "python",
   "pygments_lexer": "ipython3",
   "version": "3.10.14"
  }
 },
 "nbformat": 4,
 "nbformat_minor": 5
}
